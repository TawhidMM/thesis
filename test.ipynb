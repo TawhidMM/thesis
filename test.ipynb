{
 "cells": [
  {
   "cell_type": "code",
   "id": "initial_id",
   "metadata": {
    "collapsed": true,
    "ExecuteTime": {
     "end_time": "2025-07-20T17:52:53.890735Z",
     "start_time": "2025-07-20T17:52:51.821Z"
    }
   },
   "source": [
    "import anndata\n",
    "import pandas as pd\n",
    "import numpy as np\n",
    "import h5py"
   ],
   "outputs": [],
   "execution_count": 1
  },
  {
   "metadata": {
    "ExecuteTime": {
     "end_time": "2025-07-20T17:52:55.848974Z",
     "start_time": "2025-07-20T17:52:55.842118Z"
    }
   },
   "cell_type": "code",
   "source": [
    "file_path = 'Melanoma.h5'\n",
    "with h5py.File(file_path, 'r') as f:\n",
    "    def print_structure(name, obj):\n",
    "        print(name, '->', type(obj))\n",
    "    f.visititems(print_structure)"
   ],
   "id": "969675227f6eafe",
   "outputs": [
    {
     "name": "stdout",
     "output_type": "stream",
     "text": [
      "X -> <class 'h5py._hl.dataset.Dataset'>\n",
      "layers -> <class 'h5py._hl.group.Group'>\n",
      "obs -> <class 'h5py._hl.group.Group'>\n",
      "obs/_index -> <class 'h5py._hl.dataset.Dataset'>\n",
      "obs/array_col -> <class 'h5py._hl.dataset.Dataset'>\n",
      "obs/array_row -> <class 'h5py._hl.dataset.Dataset'>\n",
      "obsm -> <class 'h5py._hl.group.Group'>\n",
      "obsm/spatial -> <class 'h5py._hl.dataset.Dataset'>\n",
      "obsp -> <class 'h5py._hl.group.Group'>\n",
      "uns -> <class 'h5py._hl.group.Group'>\n",
      "var -> <class 'h5py._hl.group.Group'>\n",
      "var/gene -> <class 'h5py._hl.dataset.Dataset'>\n",
      "varm -> <class 'h5py._hl.group.Group'>\n",
      "varp -> <class 'h5py._hl.group.Group'>\n"
     ]
    }
   ],
   "execution_count": 2
  },
  {
   "metadata": {},
   "cell_type": "code",
   "source": [
    "with h5py.File(file_path, 'r') as f:\n",
    "    print(f.keys())           # top-level groups\n",
    "    print(f['matrix'].keys()) # contents of matrix group"
   ],
   "id": "521f97cadd29230d",
   "outputs": [],
   "execution_count": null
  },
  {
   "metadata": {
    "ExecuteTime": {
     "end_time": "2025-07-20T17:53:56.844601Z",
     "start_time": "2025-07-20T17:53:56.735216Z"
    }
   },
   "cell_type": "code",
   "source": [
    "# Path to your .h5ad file (replace with the actual file path)\n",
    "all_features_file_path = \"Melanoma.h5\"\n",
    "mask_levels_file_path = \"exp_tumor.h5ad\"\n",
    "# object_levels_file_path = \"151673.h5\"\n",
    "\n",
    "# Read the .h5ad file\n",
    "all_adata = anndata.read_h5ad(all_features_file_path)\n",
    "mask_levels_adata = anndata.read_h5ad(mask_levels_file_path)\n",
    "# object_levels_adata = anndata.read_h5ad(object_levels_file_path)"
   ],
   "id": "a05db8ab6524470a",
   "outputs": [
    {
     "name": "stderr",
     "output_type": "stream",
     "text": [
      "/home/tawhid-mubashwir/miniconda3/envs/MorphLink_env/lib/python3.10/site-packages/anndata/_core/anndata.py:1758: UserWarning: Variable names are not unique. To make them unique, call `.var_names_make_unique`.\n",
      "  utils.warn_names_duplicates(\"var\")\n"
     ]
    }
   ],
   "execution_count": 4
  },
  {
   "metadata": {},
   "cell_type": "code",
   "outputs": [],
   "execution_count": null,
   "source": "object_levels_adata",
   "id": "9619f7b0bd9b913f"
  },
  {
   "metadata": {
    "ExecuteTime": {
     "end_time": "2025-07-20T17:59:37.966909Z",
     "start_time": "2025-07-20T17:59:37.961268Z"
    }
   },
   "cell_type": "code",
   "source": [
    "# Inspect the contents of the AnnData object\n",
    "print(\"AnnData object overview:\")\n",
    "# print(all_adata)\n",
    "all_adata"
   ],
   "id": "54b9b3a80ba44b2c",
   "outputs": [
    {
     "name": "stdout",
     "output_type": "stream",
     "text": [
      "AnnData object overview:\n"
     ]
    },
    {
     "data": {
      "text/plain": [
       "AnnData object with n_obs × n_vars = 293 × 16148\n",
       "    obs: 'array_row', 'array_col'\n",
       "    obsm: 'spatial'"
      ]
     },
     "execution_count": 6,
     "metadata": {},
     "output_type": "execute_result"
    }
   ],
   "execution_count": 6
  },
  {
   "metadata": {
    "ExecuteTime": {
     "end_time": "2025-07-13T10:35:43.484998Z",
     "start_time": "2025-07-13T10:35:43.481704Z"
    }
   },
   "cell_type": "code",
   "source": "mask_levels_adata",
   "id": "9ba8afd03f6722c4",
   "outputs": [
    {
     "data": {
      "text/plain": [
       "AnnData object with n_obs × n_vars = 665 × 18085\n",
       "    obs: 'array_x', 'array_y', 'pixel_x', 'pixel_y', 'spagcn_pred', 'img_pred', 'combined_pred', 'label', 'boundary', 'Tumor_Stroma_middle'\n",
       "    var: 'gene_ids', 'feature_types', 'genome', 'genes'\n",
       "    uns: 'Tumor_Stroma_middle_colors', 'combined_pred_colors', 'spagcn_pred_colors'"
      ]
     },
     "execution_count": 10,
     "metadata": {},
     "output_type": "execute_result"
    }
   ],
   "execution_count": 10
  },
  {
   "metadata": {
    "ExecuteTime": {
     "end_time": "2025-07-13T10:14:20.018411Z",
     "start_time": "2025-07-13T10:14:20.013349Z"
    }
   },
   "cell_type": "code",
   "source": [
    "# Access the main data matrix (X)\n",
    "print(\"\\nData matrix (X) shape:\", all_adata.X.shape)\n",
    "# print(\"First few entries of X:\\n\", all_adata.X[:5, :])\n",
    "all_adata.X[:5, :5]"
   ],
   "id": "ab91a352d956f0e3",
   "outputs": [
    {
     "name": "stdout",
     "output_type": "stream",
     "text": [
      "\n",
      "Data matrix (X) shape: (293, 16148)\n"
     ]
    },
    {
     "data": {
      "text/plain": [
       "array([[ 2.,  0., 21.,  0.,  0.],\n",
       "       [ 0.,  0., 13.,  0.,  0.],\n",
       "       [ 0.,  0., 13.,  0.,  0.],\n",
       "       [ 0.,  1., 18.,  0.,  1.],\n",
       "       [ 0.,  0., 10.,  0.,  0.]], dtype=float32)"
      ]
     },
     "execution_count": 5,
     "metadata": {},
     "output_type": "execute_result"
    }
   ],
   "execution_count": 5
  },
  {
   "metadata": {
    "ExecuteTime": {
     "end_time": "2025-07-13T10:15:30.476438Z",
     "start_time": "2025-07-13T10:15:30.471270Z"
    }
   },
   "cell_type": "code",
   "source": [
    "# Access observation metadata (obs)\n",
    "print(\"\\nObservation metadata (obs):\")\n",
    "all_adata.obs.head()"
   ],
   "id": "3fa4e327f32a3e06",
   "outputs": [
    {
     "name": "stdout",
     "output_type": "stream",
     "text": [
      "\n",
      "Observation metadata (obs):\n",
      "      array_row  array_col\n",
      "7x15         14          8\n",
      "7x16         15          8\n",
      "7x17         16          8\n",
      "7x18         17          8\n",
      "8x13         12          9\n"
     ]
    }
   ],
   "execution_count": 6
  },
  {
   "metadata": {
    "ExecuteTime": {
     "end_time": "2025-07-20T18:00:22.447678Z",
     "start_time": "2025-07-20T18:00:22.444528Z"
    }
   },
   "cell_type": "code",
   "source": "all_adata.obsm",
   "id": "d5cb0c4fda1bf152",
   "outputs": [
    {
     "data": {
      "text/plain": [
       "AxisArrays with keys: spatial"
      ]
     },
     "execution_count": 8,
     "metadata": {},
     "output_type": "execute_result"
    }
   ],
   "execution_count": 8
  },
  {
   "metadata": {
    "ExecuteTime": {
     "end_time": "2025-07-13T10:37:16.385158Z",
     "start_time": "2025-07-13T10:37:16.376042Z"
    }
   },
   "cell_type": "code",
   "source": "mask_levels_adata.obs.head()",
   "id": "b9c0e46b34138de2",
   "outputs": [
    {
     "data": {
      "text/plain": [
       "                    array_x  array_y  pixel_x  pixel_y spagcn_pred img_pred  \\\n",
       "AACAGGCCATTGTCAC-1       70       82    11492     9066           7        2   \n",
       "AACATACTCCACAGTT-1       71       75    11822     7686           3        0   \n",
       "AACATATGCACTTCTA-1       45       73     2965     7348           3        2   \n",
       "AACATGACGCCTGGAC-1       66       94    10145    11437           3        2   \n",
       "AACCAAGCGTATACCG-1       59      107     7775    14011           3        2   \n",
       "\n",
       "                   combined_pred  label  boundary  Tumor_Stroma_middle  \n",
       "AACAGGCCATTGTCAC-1             0  Tumor       0.0                    1  \n",
       "AACATACTCCACAGTT-1             1  Tumor       0.0                    1  \n",
       "AACATATGCACTTCTA-1             1  Tumor       0.0                    1  \n",
       "AACATGACGCCTGGAC-1             1  Tumor       0.0                    1  \n",
       "AACCAAGCGTATACCG-1             1  Tumor       0.0                    1  "
      ],
      "text/html": [
       "<div>\n",
       "<style scoped>\n",
       "    .dataframe tbody tr th:only-of-type {\n",
       "        vertical-align: middle;\n",
       "    }\n",
       "\n",
       "    .dataframe tbody tr th {\n",
       "        vertical-align: top;\n",
       "    }\n",
       "\n",
       "    .dataframe thead th {\n",
       "        text-align: right;\n",
       "    }\n",
       "</style>\n",
       "<table border=\"1\" class=\"dataframe\">\n",
       "  <thead>\n",
       "    <tr style=\"text-align: right;\">\n",
       "      <th></th>\n",
       "      <th>array_x</th>\n",
       "      <th>array_y</th>\n",
       "      <th>pixel_x</th>\n",
       "      <th>pixel_y</th>\n",
       "      <th>spagcn_pred</th>\n",
       "      <th>img_pred</th>\n",
       "      <th>combined_pred</th>\n",
       "      <th>label</th>\n",
       "      <th>boundary</th>\n",
       "      <th>Tumor_Stroma_middle</th>\n",
       "    </tr>\n",
       "  </thead>\n",
       "  <tbody>\n",
       "    <tr>\n",
       "      <th>AACAGGCCATTGTCAC-1</th>\n",
       "      <td>70</td>\n",
       "      <td>82</td>\n",
       "      <td>11492</td>\n",
       "      <td>9066</td>\n",
       "      <td>7</td>\n",
       "      <td>2</td>\n",
       "      <td>0</td>\n",
       "      <td>Tumor</td>\n",
       "      <td>0.0</td>\n",
       "      <td>1</td>\n",
       "    </tr>\n",
       "    <tr>\n",
       "      <th>AACATACTCCACAGTT-1</th>\n",
       "      <td>71</td>\n",
       "      <td>75</td>\n",
       "      <td>11822</td>\n",
       "      <td>7686</td>\n",
       "      <td>3</td>\n",
       "      <td>0</td>\n",
       "      <td>1</td>\n",
       "      <td>Tumor</td>\n",
       "      <td>0.0</td>\n",
       "      <td>1</td>\n",
       "    </tr>\n",
       "    <tr>\n",
       "      <th>AACATATGCACTTCTA-1</th>\n",
       "      <td>45</td>\n",
       "      <td>73</td>\n",
       "      <td>2965</td>\n",
       "      <td>7348</td>\n",
       "      <td>3</td>\n",
       "      <td>2</td>\n",
       "      <td>1</td>\n",
       "      <td>Tumor</td>\n",
       "      <td>0.0</td>\n",
       "      <td>1</td>\n",
       "    </tr>\n",
       "    <tr>\n",
       "      <th>AACATGACGCCTGGAC-1</th>\n",
       "      <td>66</td>\n",
       "      <td>94</td>\n",
       "      <td>10145</td>\n",
       "      <td>11437</td>\n",
       "      <td>3</td>\n",
       "      <td>2</td>\n",
       "      <td>1</td>\n",
       "      <td>Tumor</td>\n",
       "      <td>0.0</td>\n",
       "      <td>1</td>\n",
       "    </tr>\n",
       "    <tr>\n",
       "      <th>AACCAAGCGTATACCG-1</th>\n",
       "      <td>59</td>\n",
       "      <td>107</td>\n",
       "      <td>7775</td>\n",
       "      <td>14011</td>\n",
       "      <td>3</td>\n",
       "      <td>2</td>\n",
       "      <td>1</td>\n",
       "      <td>Tumor</td>\n",
       "      <td>0.0</td>\n",
       "      <td>1</td>\n",
       "    </tr>\n",
       "  </tbody>\n",
       "</table>\n",
       "</div>"
      ]
     },
     "execution_count": 11,
     "metadata": {},
     "output_type": "execute_result"
    }
   ],
   "execution_count": 11
  },
  {
   "metadata": {
    "ExecuteTime": {
     "end_time": "2025-07-08T12:46:47.178701Z",
     "start_time": "2025-07-08T12:46:47.171776Z"
    }
   },
   "cell_type": "code",
   "source": [
    "# Access variable metadata (var)\n",
    "print(\"\\nVariable metadata (var):\")\n",
    "\n",
    "# all_adata.var\n",
    "mask_levels_adata.var\n",
    "# object_levels_adata.var"
   ],
   "id": "5e413e351c053392",
   "outputs": [
    {
     "name": "stdout",
     "output_type": "stream",
     "text": [
      "\n",
      "Variable metadata (var):\n"
     ]
    },
    {
     "data": {
      "text/plain": [
       "                                         feature_names\n",
       "m0_Area_of_1                              m0_Area_of_1\n",
       "m0_Area_of_1_ratio                  m0_Area_of_1_ratio\n",
       "log_m0_Dist_Trans_0_mean      log_m0_Dist_Trans_0_mean\n",
       "log_m0_Dist_Trans_0_median  log_m0_Dist_Trans_0_median\n",
       "log_m0_Dist_Trans_0_std        log_m0_Dist_Trans_0_std\n",
       "log_m0_Dist_Trans_0_iqr        log_m0_Dist_Trans_0_iqr\n",
       "log_m0_Dist_Trans_1_mean      log_m0_Dist_Trans_1_mean\n",
       "log_m0_Dist_Trans_1_median  log_m0_Dist_Trans_1_median\n",
       "log_m0_Dist_Trans_1_std        log_m0_Dist_Trans_1_std\n",
       "log_m0_Dist_Trans_1_iqr        log_m0_Dist_Trans_1_iqr\n",
       "m1_Area_of_1                              m1_Area_of_1\n",
       "log_m1_Area_of_1_ratio          log_m1_Area_of_1_ratio\n",
       "log_m1_Dist_Trans_0_mean      log_m1_Dist_Trans_0_mean\n",
       "log_m1_Dist_Trans_0_median  log_m1_Dist_Trans_0_median\n",
       "log_m1_Dist_Trans_0_std        log_m1_Dist_Trans_0_std\n",
       "log_m1_Dist_Trans_0_iqr        log_m1_Dist_Trans_0_iqr\n",
       "log_m1_Dist_Trans_1_mean      log_m1_Dist_Trans_1_mean\n",
       "log_m1_Dist_Trans_1_median  log_m1_Dist_Trans_1_median\n",
       "log_m1_Dist_Trans_1_std        log_m1_Dist_Trans_1_std\n",
       "log_m1_Dist_Trans_1_iqr        log_m1_Dist_Trans_1_iqr\n",
       "m2_Area_of_1                              m2_Area_of_1\n",
       "log_m2_Area_of_1_ratio          log_m2_Area_of_1_ratio\n",
       "log_m2_Dist_Trans_0_mean      log_m2_Dist_Trans_0_mean\n",
       "log_m2_Dist_Trans_0_std        log_m2_Dist_Trans_0_std\n",
       "log_m2_Dist_Trans_0_iqr        log_m2_Dist_Trans_0_iqr\n",
       "m2_Dist_Trans_1_mean              m2_Dist_Trans_1_mean\n",
       "m2_Dist_Trans_1_median          m2_Dist_Trans_1_median\n",
       "m2_Dist_Trans_1_std                m2_Dist_Trans_1_std\n",
       "m2_Dist_Trans_1_iqr                m2_Dist_Trans_1_iqr\n",
       "log_m3_Area_of_1                      log_m3_Area_of_1\n",
       "log_m3_Area_of_1_ratio          log_m3_Area_of_1_ratio\n",
       "log_m3_Dist_Trans_0_mean      log_m3_Dist_Trans_0_mean\n",
       "log_m3_Dist_Trans_0_std        log_m3_Dist_Trans_0_std\n",
       "m3_Dist_Trans_0_iqr                m3_Dist_Trans_0_iqr\n",
       "log_m3_Dist_Trans_1_mean      log_m3_Dist_Trans_1_mean\n",
       "log_m3_Dist_Trans_1_median  log_m3_Dist_Trans_1_median\n",
       "log_m3_Dist_Trans_1_std        log_m3_Dist_Trans_1_std\n",
       "log_m3_Dist_Trans_1_iqr        log_m3_Dist_Trans_1_iqr\n",
       "log_m4_Area_of_1                      log_m4_Area_of_1\n",
       "log_m4_Area_of_1_ratio          log_m4_Area_of_1_ratio\n",
       "log_m4_Dist_Trans_0_mean      log_m4_Dist_Trans_0_mean\n",
       "log_m4_Dist_Trans_0_std        log_m4_Dist_Trans_0_std\n",
       "log_m4_Dist_Trans_0_iqr        log_m4_Dist_Trans_0_iqr\n",
       "log_m4_Dist_Trans_1_mean      log_m4_Dist_Trans_1_mean\n",
       "log_m4_Dist_Trans_1_median  log_m4_Dist_Trans_1_median\n",
       "log_m4_Dist_Trans_1_std        log_m4_Dist_Trans_1_std\n",
       "log_m4_Dist_Trans_1_iqr        log_m4_Dist_Trans_1_iqr\n",
       "m5_Area_of_1                              m5_Area_of_1\n",
       "log_m5_Area_of_1_ratio          log_m5_Area_of_1_ratio\n",
       "log_m5_Dist_Trans_0_mean      log_m5_Dist_Trans_0_mean\n",
       "log_m5_Dist_Trans_0_std        log_m5_Dist_Trans_0_std\n",
       "log_m5_Dist_Trans_1_mean      log_m5_Dist_Trans_1_mean\n",
       "log_m5_Dist_Trans_1_median  log_m5_Dist_Trans_1_median\n",
       "log_m5_Dist_Trans_1_std        log_m5_Dist_Trans_1_std\n",
       "log_m5_Dist_Trans_1_iqr        log_m5_Dist_Trans_1_iqr"
      ],
      "text/html": [
       "<div>\n",
       "<style scoped>\n",
       "    .dataframe tbody tr th:only-of-type {\n",
       "        vertical-align: middle;\n",
       "    }\n",
       "\n",
       "    .dataframe tbody tr th {\n",
       "        vertical-align: top;\n",
       "    }\n",
       "\n",
       "    .dataframe thead th {\n",
       "        text-align: right;\n",
       "    }\n",
       "</style>\n",
       "<table border=\"1\" class=\"dataframe\">\n",
       "  <thead>\n",
       "    <tr style=\"text-align: right;\">\n",
       "      <th></th>\n",
       "      <th>feature_names</th>\n",
       "    </tr>\n",
       "  </thead>\n",
       "  <tbody>\n",
       "    <tr>\n",
       "      <th>m0_Area_of_1</th>\n",
       "      <td>m0_Area_of_1</td>\n",
       "    </tr>\n",
       "    <tr>\n",
       "      <th>m0_Area_of_1_ratio</th>\n",
       "      <td>m0_Area_of_1_ratio</td>\n",
       "    </tr>\n",
       "    <tr>\n",
       "      <th>log_m0_Dist_Trans_0_mean</th>\n",
       "      <td>log_m0_Dist_Trans_0_mean</td>\n",
       "    </tr>\n",
       "    <tr>\n",
       "      <th>log_m0_Dist_Trans_0_median</th>\n",
       "      <td>log_m0_Dist_Trans_0_median</td>\n",
       "    </tr>\n",
       "    <tr>\n",
       "      <th>log_m0_Dist_Trans_0_std</th>\n",
       "      <td>log_m0_Dist_Trans_0_std</td>\n",
       "    </tr>\n",
       "    <tr>\n",
       "      <th>log_m0_Dist_Trans_0_iqr</th>\n",
       "      <td>log_m0_Dist_Trans_0_iqr</td>\n",
       "    </tr>\n",
       "    <tr>\n",
       "      <th>log_m0_Dist_Trans_1_mean</th>\n",
       "      <td>log_m0_Dist_Trans_1_mean</td>\n",
       "    </tr>\n",
       "    <tr>\n",
       "      <th>log_m0_Dist_Trans_1_median</th>\n",
       "      <td>log_m0_Dist_Trans_1_median</td>\n",
       "    </tr>\n",
       "    <tr>\n",
       "      <th>log_m0_Dist_Trans_1_std</th>\n",
       "      <td>log_m0_Dist_Trans_1_std</td>\n",
       "    </tr>\n",
       "    <tr>\n",
       "      <th>log_m0_Dist_Trans_1_iqr</th>\n",
       "      <td>log_m0_Dist_Trans_1_iqr</td>\n",
       "    </tr>\n",
       "    <tr>\n",
       "      <th>m1_Area_of_1</th>\n",
       "      <td>m1_Area_of_1</td>\n",
       "    </tr>\n",
       "    <tr>\n",
       "      <th>log_m1_Area_of_1_ratio</th>\n",
       "      <td>log_m1_Area_of_1_ratio</td>\n",
       "    </tr>\n",
       "    <tr>\n",
       "      <th>log_m1_Dist_Trans_0_mean</th>\n",
       "      <td>log_m1_Dist_Trans_0_mean</td>\n",
       "    </tr>\n",
       "    <tr>\n",
       "      <th>log_m1_Dist_Trans_0_median</th>\n",
       "      <td>log_m1_Dist_Trans_0_median</td>\n",
       "    </tr>\n",
       "    <tr>\n",
       "      <th>log_m1_Dist_Trans_0_std</th>\n",
       "      <td>log_m1_Dist_Trans_0_std</td>\n",
       "    </tr>\n",
       "    <tr>\n",
       "      <th>log_m1_Dist_Trans_0_iqr</th>\n",
       "      <td>log_m1_Dist_Trans_0_iqr</td>\n",
       "    </tr>\n",
       "    <tr>\n",
       "      <th>log_m1_Dist_Trans_1_mean</th>\n",
       "      <td>log_m1_Dist_Trans_1_mean</td>\n",
       "    </tr>\n",
       "    <tr>\n",
       "      <th>log_m1_Dist_Trans_1_median</th>\n",
       "      <td>log_m1_Dist_Trans_1_median</td>\n",
       "    </tr>\n",
       "    <tr>\n",
       "      <th>log_m1_Dist_Trans_1_std</th>\n",
       "      <td>log_m1_Dist_Trans_1_std</td>\n",
       "    </tr>\n",
       "    <tr>\n",
       "      <th>log_m1_Dist_Trans_1_iqr</th>\n",
       "      <td>log_m1_Dist_Trans_1_iqr</td>\n",
       "    </tr>\n",
       "    <tr>\n",
       "      <th>m2_Area_of_1</th>\n",
       "      <td>m2_Area_of_1</td>\n",
       "    </tr>\n",
       "    <tr>\n",
       "      <th>log_m2_Area_of_1_ratio</th>\n",
       "      <td>log_m2_Area_of_1_ratio</td>\n",
       "    </tr>\n",
       "    <tr>\n",
       "      <th>log_m2_Dist_Trans_0_mean</th>\n",
       "      <td>log_m2_Dist_Trans_0_mean</td>\n",
       "    </tr>\n",
       "    <tr>\n",
       "      <th>log_m2_Dist_Trans_0_std</th>\n",
       "      <td>log_m2_Dist_Trans_0_std</td>\n",
       "    </tr>\n",
       "    <tr>\n",
       "      <th>log_m2_Dist_Trans_0_iqr</th>\n",
       "      <td>log_m2_Dist_Trans_0_iqr</td>\n",
       "    </tr>\n",
       "    <tr>\n",
       "      <th>m2_Dist_Trans_1_mean</th>\n",
       "      <td>m2_Dist_Trans_1_mean</td>\n",
       "    </tr>\n",
       "    <tr>\n",
       "      <th>m2_Dist_Trans_1_median</th>\n",
       "      <td>m2_Dist_Trans_1_median</td>\n",
       "    </tr>\n",
       "    <tr>\n",
       "      <th>m2_Dist_Trans_1_std</th>\n",
       "      <td>m2_Dist_Trans_1_std</td>\n",
       "    </tr>\n",
       "    <tr>\n",
       "      <th>m2_Dist_Trans_1_iqr</th>\n",
       "      <td>m2_Dist_Trans_1_iqr</td>\n",
       "    </tr>\n",
       "    <tr>\n",
       "      <th>log_m3_Area_of_1</th>\n",
       "      <td>log_m3_Area_of_1</td>\n",
       "    </tr>\n",
       "    <tr>\n",
       "      <th>log_m3_Area_of_1_ratio</th>\n",
       "      <td>log_m3_Area_of_1_ratio</td>\n",
       "    </tr>\n",
       "    <tr>\n",
       "      <th>log_m3_Dist_Trans_0_mean</th>\n",
       "      <td>log_m3_Dist_Trans_0_mean</td>\n",
       "    </tr>\n",
       "    <tr>\n",
       "      <th>log_m3_Dist_Trans_0_std</th>\n",
       "      <td>log_m3_Dist_Trans_0_std</td>\n",
       "    </tr>\n",
       "    <tr>\n",
       "      <th>m3_Dist_Trans_0_iqr</th>\n",
       "      <td>m3_Dist_Trans_0_iqr</td>\n",
       "    </tr>\n",
       "    <tr>\n",
       "      <th>log_m3_Dist_Trans_1_mean</th>\n",
       "      <td>log_m3_Dist_Trans_1_mean</td>\n",
       "    </tr>\n",
       "    <tr>\n",
       "      <th>log_m3_Dist_Trans_1_median</th>\n",
       "      <td>log_m3_Dist_Trans_1_median</td>\n",
       "    </tr>\n",
       "    <tr>\n",
       "      <th>log_m3_Dist_Trans_1_std</th>\n",
       "      <td>log_m3_Dist_Trans_1_std</td>\n",
       "    </tr>\n",
       "    <tr>\n",
       "      <th>log_m3_Dist_Trans_1_iqr</th>\n",
       "      <td>log_m3_Dist_Trans_1_iqr</td>\n",
       "    </tr>\n",
       "    <tr>\n",
       "      <th>log_m4_Area_of_1</th>\n",
       "      <td>log_m4_Area_of_1</td>\n",
       "    </tr>\n",
       "    <tr>\n",
       "      <th>log_m4_Area_of_1_ratio</th>\n",
       "      <td>log_m4_Area_of_1_ratio</td>\n",
       "    </tr>\n",
       "    <tr>\n",
       "      <th>log_m4_Dist_Trans_0_mean</th>\n",
       "      <td>log_m4_Dist_Trans_0_mean</td>\n",
       "    </tr>\n",
       "    <tr>\n",
       "      <th>log_m4_Dist_Trans_0_std</th>\n",
       "      <td>log_m4_Dist_Trans_0_std</td>\n",
       "    </tr>\n",
       "    <tr>\n",
       "      <th>log_m4_Dist_Trans_0_iqr</th>\n",
       "      <td>log_m4_Dist_Trans_0_iqr</td>\n",
       "    </tr>\n",
       "    <tr>\n",
       "      <th>log_m4_Dist_Trans_1_mean</th>\n",
       "      <td>log_m4_Dist_Trans_1_mean</td>\n",
       "    </tr>\n",
       "    <tr>\n",
       "      <th>log_m4_Dist_Trans_1_median</th>\n",
       "      <td>log_m4_Dist_Trans_1_median</td>\n",
       "    </tr>\n",
       "    <tr>\n",
       "      <th>log_m4_Dist_Trans_1_std</th>\n",
       "      <td>log_m4_Dist_Trans_1_std</td>\n",
       "    </tr>\n",
       "    <tr>\n",
       "      <th>log_m4_Dist_Trans_1_iqr</th>\n",
       "      <td>log_m4_Dist_Trans_1_iqr</td>\n",
       "    </tr>\n",
       "    <tr>\n",
       "      <th>m5_Area_of_1</th>\n",
       "      <td>m5_Area_of_1</td>\n",
       "    </tr>\n",
       "    <tr>\n",
       "      <th>log_m5_Area_of_1_ratio</th>\n",
       "      <td>log_m5_Area_of_1_ratio</td>\n",
       "    </tr>\n",
       "    <tr>\n",
       "      <th>log_m5_Dist_Trans_0_mean</th>\n",
       "      <td>log_m5_Dist_Trans_0_mean</td>\n",
       "    </tr>\n",
       "    <tr>\n",
       "      <th>log_m5_Dist_Trans_0_std</th>\n",
       "      <td>log_m5_Dist_Trans_0_std</td>\n",
       "    </tr>\n",
       "    <tr>\n",
       "      <th>log_m5_Dist_Trans_1_mean</th>\n",
       "      <td>log_m5_Dist_Trans_1_mean</td>\n",
       "    </tr>\n",
       "    <tr>\n",
       "      <th>log_m5_Dist_Trans_1_median</th>\n",
       "      <td>log_m5_Dist_Trans_1_median</td>\n",
       "    </tr>\n",
       "    <tr>\n",
       "      <th>log_m5_Dist_Trans_1_std</th>\n",
       "      <td>log_m5_Dist_Trans_1_std</td>\n",
       "    </tr>\n",
       "    <tr>\n",
       "      <th>log_m5_Dist_Trans_1_iqr</th>\n",
       "      <td>log_m5_Dist_Trans_1_iqr</td>\n",
       "    </tr>\n",
       "  </tbody>\n",
       "</table>\n",
       "</div>"
      ]
     },
     "execution_count": 11,
     "metadata": {},
     "output_type": "execute_result"
    }
   ],
   "execution_count": 11
  },
  {
   "metadata": {
    "ExecuteTime": {
     "end_time": "2025-07-08T12:48:09.316414Z",
     "start_time": "2025-07-08T12:48:09.309927Z"
    }
   },
   "cell_type": "code",
   "source": "object_levels_adata.var",
   "id": "d9acc861012303e",
   "outputs": [
    {
     "data": {
      "text/plain": [
       "                         feature_names\n",
       "log_c0_area_median  log_c0_area_median\n",
       "log_c0_area_std        log_c0_area_std\n",
       "log_c0_area_iqr        log_c0_area_iqr\n",
       "log_c0_area_q0          log_c0_area_q0\n",
       "log_c0_area_q25        log_c0_area_q25\n",
       "...                                ...\n",
       "c5_dis_iqr                  c5_dis_iqr\n",
       "c5_dis_q25                  c5_dis_q25\n",
       "c5_dis_q50                  c5_dis_q50\n",
       "c5_dis_q75                  c5_dis_q75\n",
       "c5_dis_q100                c5_dis_q100\n",
       "\n",
       "[666 rows x 1 columns]"
      ],
      "text/html": [
       "<div>\n",
       "<style scoped>\n",
       "    .dataframe tbody tr th:only-of-type {\n",
       "        vertical-align: middle;\n",
       "    }\n",
       "\n",
       "    .dataframe tbody tr th {\n",
       "        vertical-align: top;\n",
       "    }\n",
       "\n",
       "    .dataframe thead th {\n",
       "        text-align: right;\n",
       "    }\n",
       "</style>\n",
       "<table border=\"1\" class=\"dataframe\">\n",
       "  <thead>\n",
       "    <tr style=\"text-align: right;\">\n",
       "      <th></th>\n",
       "      <th>feature_names</th>\n",
       "    </tr>\n",
       "  </thead>\n",
       "  <tbody>\n",
       "    <tr>\n",
       "      <th>log_c0_area_median</th>\n",
       "      <td>log_c0_area_median</td>\n",
       "    </tr>\n",
       "    <tr>\n",
       "      <th>log_c0_area_std</th>\n",
       "      <td>log_c0_area_std</td>\n",
       "    </tr>\n",
       "    <tr>\n",
       "      <th>log_c0_area_iqr</th>\n",
       "      <td>log_c0_area_iqr</td>\n",
       "    </tr>\n",
       "    <tr>\n",
       "      <th>log_c0_area_q0</th>\n",
       "      <td>log_c0_area_q0</td>\n",
       "    </tr>\n",
       "    <tr>\n",
       "      <th>log_c0_area_q25</th>\n",
       "      <td>log_c0_area_q25</td>\n",
       "    </tr>\n",
       "    <tr>\n",
       "      <th>...</th>\n",
       "      <td>...</td>\n",
       "    </tr>\n",
       "    <tr>\n",
       "      <th>c5_dis_iqr</th>\n",
       "      <td>c5_dis_iqr</td>\n",
       "    </tr>\n",
       "    <tr>\n",
       "      <th>c5_dis_q25</th>\n",
       "      <td>c5_dis_q25</td>\n",
       "    </tr>\n",
       "    <tr>\n",
       "      <th>c5_dis_q50</th>\n",
       "      <td>c5_dis_q50</td>\n",
       "    </tr>\n",
       "    <tr>\n",
       "      <th>c5_dis_q75</th>\n",
       "      <td>c5_dis_q75</td>\n",
       "    </tr>\n",
       "    <tr>\n",
       "      <th>c5_dis_q100</th>\n",
       "      <td>c5_dis_q100</td>\n",
       "    </tr>\n",
       "  </tbody>\n",
       "</table>\n",
       "<p>666 rows × 1 columns</p>\n",
       "</div>"
      ]
     },
     "execution_count": 12,
     "metadata": {},
     "output_type": "execute_result"
    }
   ],
   "execution_count": 12
  },
  {
   "metadata": {},
   "cell_type": "code",
   "execution_count": null,
   "source": [
    "# Access any additional unstructured annotations (if available)\n",
    "print(\"\\nUnstructured annotations (uns):\")\n",
    "print(all_adata.uns.keys())"
   ],
   "id": "a4fa4293a702796f",
   "outputs": []
  },
  {
   "metadata": {},
   "cell_type": "code",
   "outputs": [],
   "execution_count": null,
   "source": [
    "# Example: Save a subset of the data to a CSV file (optional)\n",
    "all_adata.obs.to_csv(\"obs_metadata.csv\")"
   ],
   "id": "971117741f7df0c"
  }
 ],
 "metadata": {
  "kernelspec": {
   "display_name": "Python 3",
   "language": "python",
   "name": "python3"
  },
  "language_info": {
   "codemirror_mode": {
    "name": "ipython",
    "version": 2
   },
   "file_extension": ".py",
   "mimetype": "text/x-python",
   "name": "python",
   "nbconvert_exporter": "python",
   "pygments_lexer": "ipython2",
   "version": "2.7.6"
  }
 },
 "nbformat": 4,
 "nbformat_minor": 5
}
